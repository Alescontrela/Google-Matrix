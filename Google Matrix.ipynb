{
 "cells": [
  {
   "cell_type": "code",
   "execution_count": 2,
   "metadata": {},
   "outputs": [],
   "source": [
    "import numpy as np"
   ]
  },
  {
   "cell_type": "markdown",
   "metadata": {},
   "source": [
    "# The data\n",
    "\n",
    "The following lists denote who each person follows. For example, John follows mark, sally, peter and tim while peter only follows tim.\n",
    "\n",
    "The goal is to see who is ranked as most important based on the amount of followers each person has."
   ]
  },
  {
   "cell_type": "code",
   "execution_count": 3,
   "metadata": {},
   "outputs": [],
   "source": [
    "john = ['mark', 'sally', 'peter', 'tim']\n",
    "mark = ['john', 'sally']\n",
    "peter = ['tim']\n",
    "sally = ['mark', 'john', 'peter', 'tim']\n",
    "tim = ['sally']"
   ]
  },
  {
   "cell_type": "markdown",
   "metadata": {},
   "source": [
    "Create a sorted list of all the people."
   ]
  },
  {
   "cell_type": "code",
   "execution_count": 4,
   "metadata": {},
   "outputs": [
    {
     "name": "stdout",
     "output_type": "stream",
     "text": [
      "['john', 'mark', 'peter', 'sally', 'tim']\n"
     ]
    }
   ],
   "source": [
    "total = set(john + mark + sally + peter + tim)\n",
    "total = sorted(list(total))\n",
    "print(total)"
   ]
  },
  {
   "cell_type": "markdown",
   "metadata": {},
   "source": [
    "## Building the Google Matrix\n",
    "\n",
    "We initialize the google matrix to be a zeros matrix of dims (#_people, #_people)."
   ]
  },
  {
   "cell_type": "code",
   "execution_count": 5,
   "metadata": {
    "scrolled": true
   },
   "outputs": [
    {
     "name": "stdout",
     "output_type": "stream",
     "text": [
      "[[0. 0. 0. 0. 0.]\n",
      " [0. 0. 0. 0. 0.]\n",
      " [0. 0. 0. 0. 0.]\n",
      " [0. 0. 0. 0. 0.]\n",
      " [0. 0. 0. 0. 0.]]\n"
     ]
    }
   ],
   "source": [
    "s_mat = np.zeros(shape = (len(total), len(total)))\n",
    "print(s_mat)"
   ]
  },
  {
   "cell_type": "markdown",
   "metadata": {},
   "source": [
    "We then traverse each person's list of the people they follow, denoting the importance (proportion of outgoing nodes) that each person dedicates to the other person. For example, since John (column 1) follows the other 4 people, he gives 1/4 of his importance to each other person. Peter (column 3), however, only follows 1 person (tim), so he transfers all of his importance to tim."
   ]
  },
  {
   "cell_type": "code",
   "execution_count": 6,
   "metadata": {},
   "outputs": [
    {
     "name": "stdout",
     "output_type": "stream",
     "text": [
      "[[0.   0.5  0.   0.25 0.  ]\n",
      " [0.25 0.   0.   0.25 0.  ]\n",
      " [0.25 0.   0.   0.25 0.  ]\n",
      " [0.25 0.5  0.   0.   1.  ]\n",
      " [0.25 0.   1.   0.25 0.  ]]\n"
     ]
    }
   ],
   "source": [
    "for i, per in enumerate([john, mark, peter, sally, tim]):\n",
    "    for pub in per:\n",
    "        if pub in total:\n",
    "            s_mat[total.index(pub),i] = 1\n",
    "        s_mat[total.index(pub),i] = s_mat[total.index(pub),i]/len(per)\n",
    "        \n",
    "print(s_mat)"
   ]
  },
  {
   "cell_type": "markdown",
   "metadata": {},
   "source": [
    "The PageRank theory holds that an imaginary surfer who is randomly clicking on links will eventually stop clicking. The probability, at any step, that the person will continue is a damping factor d. Various studies have tested different damping factors, but it is generally assumed that the damping factor will be set around 0.85.\n",
    "\n",
    "The Google Matrix is constructed using the following equation:\n",
    "\n",
    "$$G = \\alpha*S + (1-\\alpha) * {1\\over{N}}$$\n",
    "\n",
    "where $\\alpha$ denotes the damping factor and $N$ denotes the number of documents."
   ]
  },
  {
   "cell_type": "code",
   "execution_count": 7,
   "metadata": {},
   "outputs": [],
   "source": [
    "damping_factor = 0.85\n",
    "\n",
    "G_mat = s_mat * damping_factor\n",
    "\n",
    "np.place(G_mat, G_mat == 0, (1-damping_factor) * 1/(len(total)))"
   ]
  },
  {
   "cell_type": "code",
   "execution_count": 8,
   "metadata": {
    "scrolled": true
   },
   "outputs": [
    {
     "name": "stdout",
     "output_type": "stream",
     "text": [
      "[[0.03   0.425  0.03   0.2125 0.03  ]\n",
      " [0.2125 0.03   0.03   0.2125 0.03  ]\n",
      " [0.2125 0.03   0.03   0.2125 0.03  ]\n",
      " [0.2125 0.425  0.03   0.03   0.85  ]\n",
      " [0.2125 0.03   0.85   0.2125 0.03  ]]\n"
     ]
    }
   ],
   "source": [
    "print(G_mat)"
   ]
  },
  {
   "cell_type": "markdown",
   "metadata": {},
   "source": [
    "To converge of the eigenvector of the Google matrix, which denotes the pagerank, we use the Power Method (Power Iteration) to iterate our way to a valid eigenvector. Initially, we choose a random, or partially approximated eigenvector, then we use the following recursive relation to approximate a valid eigenvector:\n",
    "\n",
    "$$b_{k+1} = {{A*b_{k}}\\over{||A*b_{k}||}}$$"
   ]
  },
  {
   "cell_type": "code",
   "execution_count": 9,
   "metadata": {},
   "outputs": [],
   "source": [
    "def power_iteration(A, num_iters):\n",
    "    rank = np.full((1, len(total)), 1/len(total))\n",
    "    rank = rank.T\n",
    "    \n",
    "    for i in range(num_iters):\n",
    "        rank_new = np.dot(A, rank)\n",
    "        rank_norm = np.linalg.norm(rank_new)\n",
    "        rank = rank_new/rank_norm\n",
    "        \n",
    "    return rank"
   ]
  },
  {
   "cell_type": "markdown",
   "metadata": {},
   "source": [
    "## Results\n",
    "\n",
    "The results are rather accurate, although they contain some minor discrepencies. Firstly, the ranks for john, mark, and peter are all around the ~0.275 range, which makes sense considering that all 3 of them are followed by only 2 other people.\n",
    "\n",
    "Additionally, the ranks for sally and tim are greater than john, mark, and peter because they're both followed by 3 other people.\n",
    "\n",
    "However, note that, even though sally and tim are followed by the same amount of people, the rank for sally is greater than the rank for tim. This is due to the fact that Sally has more *dedicated followers*. While Sally's followers, John, Mark, and Tim, follow 3, 1, and 0 people other than Sally, respectively, Tim's followers, John, Peter, and Sally, follow 3, 0, and 3 people other than Tim. Therefore, Sally's followers are more unique, that is, they are very interested in what Sally has to say, while Tim's followers are interested in what Tim has to say amongst what others have to say.\n",
    "\n",
    "This is where the power lies in the concept of a Google matrix: the transfer of importance. While following a Markov Chain type model, the rank is capable of storing the importance that one person attributes to the other through who/how many people they follow."
   ]
  },
  {
   "cell_type": "code",
   "execution_count": 10,
   "metadata": {},
   "outputs": [
    {
     "name": "stdout",
     "output_type": "stream",
     "text": [
      "[[0.30695658]\n",
      " [0.25589741]\n",
      " [0.25589741]\n",
      " [0.71640898]\n",
      " [0.51143803]]\n"
     ]
    }
   ],
   "source": [
    "rank = power_iteration(s_mat, 10)\n",
    "print(rank)"
   ]
  },
  {
   "cell_type": "markdown",
   "metadata": {},
   "source": [
    "## Extra: Getting the eigenvector"
   ]
  },
  {
   "cell_type": "markdown",
   "metadata": {},
   "source": [
    "To obtain the eigenvalue for the eigenvector (pageRank) approximated above, we use the Raleigh Quotient, defined as follows:\n",
    "\n",
    "$$R(M,x) = {{x*Mx}\\over{x*x}}$$\n",
    "\n",
    "Where M represents the matrix the eigenvector was derived from, in this case the Google Matrix, and x represents the eigenvector."
   ]
  },
  {
   "cell_type": "code",
   "execution_count": 11,
   "metadata": {},
   "outputs": [],
   "source": [
    "def raleighQuotient(m, rank):\n",
    "    r = np.dot(rank.T, np.matmul(m, rank))\n",
    "    r = np.squeeze(r)\n",
    "    r = r/np.dot(rank.T, rank)\n",
    "    return np.squeeze(r)"
   ]
  },
  {
   "cell_type": "code",
   "execution_count": 12,
   "metadata": {},
   "outputs": [
    {
     "data": {
      "text/plain": [
       "array(0.9082324)"
      ]
     },
     "execution_count": 12,
     "metadata": {},
     "output_type": "execute_result"
    }
   ],
   "source": [
    "raleighQuotient(G_mat, rank)"
   ]
  },
  {
   "cell_type": "code",
   "execution_count": 13,
   "metadata": {},
   "outputs": [
    {
     "data": {
      "text/plain": [
       "array([[0.03  , 0.425 , 0.03  , 0.2125, 0.03  ],\n",
       "       [0.2125, 0.03  , 0.03  , 0.2125, 0.03  ],\n",
       "       [0.2125, 0.03  , 0.03  , 0.2125, 0.03  ],\n",
       "       [0.2125, 0.425 , 0.03  , 0.03  , 0.85  ],\n",
       "       [0.2125, 0.03  , 0.85  , 0.2125, 0.03  ]])"
      ]
     },
     "execution_count": 13,
     "metadata": {},
     "output_type": "execute_result"
    }
   ],
   "source": [
    "G_mat"
   ]
  },
  {
   "cell_type": "markdown",
   "metadata": {},
   "source": [
    "## Dynamic Google Matrix"
   ]
  },
  {
   "cell_type": "code",
   "execution_count": 239,
   "metadata": {},
   "outputs": [],
   "source": [
    "user_buff = {}\n",
    "total = {}\n",
    "\n",
    "# User format: [str::name, int::uid, ]\n",
    "john = ['john',0, ['mark', 'sally', 'peter', 'tim']]\n",
    "mark = ['mark',1, ['john', 'sally']]\n",
    "peter = ['peter',2, ['tim']]\n",
    "sally = ['sally',3, ['mark', 'john', 'peter', 'tim']]\n",
    "tim = ['tim',4, ['sally']]"
   ]
  },
  {
   "cell_type": "code",
   "execution_count": 240,
   "metadata": {},
   "outputs": [],
   "source": [
    "# Updates the dictionary of user/followers. The key is the user id and the values are the people that the user follows. \n",
    "def add_users_to_buff(user_buff, usrs = []):\n",
    "    for i in usrs:\n",
    "        user_buff[i[1]] = i[2][:]\n",
    "        \n",
    "    return user_buff\n",
    "\n",
    "# update the dictionary of user/id. The dict is unique, where the key is the name and the value is the user's id\n",
    "def add_users_to_list(total, usrs = []):\n",
    "    for i in usrs:\n",
    "        if i[0] not in list(total.keys()):\n",
    "            total[i[0]] = i[1]\n",
    "        \n",
    "    return total\n",
    "\n",
    "# initialize a G_matrix with a list of users. \n",
    "def init_G_matrix(user_buff, total, damping_factor): \n",
    "    s_mat = np.zeros(shape = (len(total), len(total)))\n",
    "    \n",
    "    for i, per in enumerate(list(user_buff.keys())):\n",
    "        for pub in user_buff[per]:\n",
    "            if pub in total:\n",
    "                s_mat[total[pub],i] = 1\n",
    "            s_mat[total[pub],i] = s_mat[total[pub],i]/len(user_buff[per])\n",
    "        if np.count_nonzero(s_mat[:,i]) == 0:\n",
    "            s_mat[:,i].fill(1/len(total))\n",
    "            \n",
    "            \n",
    "    G_mat = s_mat * damping_factor\n",
    "\n",
    "#     np.place(G_mat, G_mat == 0, (1-damping_factor) * 1/(len(total)))\n",
    "    \n",
    "    return G_mat\n",
    "\n",
    "# power method used to find the eigenvector of the google matrix\n",
    "def power_iteration(A, num_users,num_iters):\n",
    "    rank = np.full((1, num_users), 1/num_users)\n",
    "    rank = rank.T\n",
    "    \n",
    "    for i in range(num_iters):\n",
    "        rank_new = np.dot(A, rank)\n",
    "        rank_norm = np.linalg.norm(rank_new)\n",
    "        rank = rank_new/rank_norm\n",
    "        \n",
    "    return rank\n",
    "\n",
    "# use the power method to compute the google rank\n",
    "def compute_rank(g_mat, total, num_iters):\n",
    "    \n",
    "    return power_iteration(g_mat, len(total), num_iters)"
   ]
  },
  {
   "cell_type": "code",
   "execution_count": 241,
   "metadata": {},
   "outputs": [
    {
     "data": {
      "text/plain": [
       "{0: ['mark', 'sally', 'peter', 'tim'],\n",
       " 1: ['john', 'sally'],\n",
       " 2: ['tim'],\n",
       " 3: ['mark', 'john', 'peter', 'tim'],\n",
       " 4: ['sally']}"
      ]
     },
     "execution_count": 241,
     "metadata": {},
     "output_type": "execute_result"
    }
   ],
   "source": [
    "user_buff = add_users_to_buff(user_buff, [john, mark, peter, sally, tim])\n",
    "user_buff"
   ]
  },
  {
   "cell_type": "code",
   "execution_count": 242,
   "metadata": {},
   "outputs": [
    {
     "data": {
      "text/plain": [
       "{'john': 0, 'mark': 1, 'peter': 2, 'sally': 3, 'tim': 4}"
      ]
     },
     "execution_count": 242,
     "metadata": {},
     "output_type": "execute_result"
    }
   ],
   "source": [
    "total = add_users_to_list(total, [john, mark, peter, sally, tim])\n",
    "total"
   ]
  },
  {
   "cell_type": "code",
   "execution_count": 243,
   "metadata": {},
   "outputs": [
    {
     "data": {
      "text/plain": [
       "array([[0.    , 0.425 , 0.    , 0.2125, 0.    ],\n",
       "       [0.2125, 0.    , 0.    , 0.2125, 0.    ],\n",
       "       [0.2125, 0.    , 0.    , 0.2125, 0.    ],\n",
       "       [0.2125, 0.425 , 0.    , 0.    , 0.85  ],\n",
       "       [0.2125, 0.    , 0.85  , 0.2125, 0.    ]])"
      ]
     },
     "execution_count": 243,
     "metadata": {},
     "output_type": "execute_result"
    }
   ],
   "source": [
    "g_mat = init_G_matrix(user_buff, total, 0.85)\n",
    "g_mat"
   ]
  },
  {
   "cell_type": "code",
   "execution_count": 244,
   "metadata": {},
   "outputs": [
    {
     "data": {
      "text/plain": [
       "array([[0.30698671],\n",
       "       [0.25582226],\n",
       "       [0.25582226],\n",
       "       [0.71630231],\n",
       "       [0.51164451]])"
      ]
     },
     "execution_count": 244,
     "metadata": {},
     "output_type": "execute_result"
    }
   ],
   "source": [
    "compute_rank(g_mat, total, 100)"
   ]
  },
  {
   "cell_type": "code",
   "execution_count": 245,
   "metadata": {},
   "outputs": [],
   "source": [
    "mike = ['mike', 5, ['peter', 'sally']]"
   ]
  },
  {
   "cell_type": "code",
   "execution_count": 246,
   "metadata": {},
   "outputs": [
    {
     "data": {
      "text/plain": [
       "{0: ['mark', 'sally', 'peter', 'tim'],\n",
       " 1: ['john', 'sally'],\n",
       " 2: ['tim'],\n",
       " 3: ['mark', 'john', 'peter', 'tim'],\n",
       " 4: ['sally'],\n",
       " 5: ['peter', 'sally']}"
      ]
     },
     "execution_count": 246,
     "metadata": {},
     "output_type": "execute_result"
    }
   ],
   "source": [
    "user_buff = add_users_to_buff(user_buff, [mike])\n",
    "user_buff"
   ]
  },
  {
   "cell_type": "code",
   "execution_count": 247,
   "metadata": {},
   "outputs": [
    {
     "data": {
      "text/plain": [
       "{'john': 0, 'mark': 1, 'mike': 5, 'peter': 2, 'sally': 3, 'tim': 4}"
      ]
     },
     "execution_count": 247,
     "metadata": {},
     "output_type": "execute_result"
    }
   ],
   "source": [
    "total = add_users_to_list(total, [mike])\n",
    "total"
   ]
  },
  {
   "cell_type": "code",
   "execution_count": 248,
   "metadata": {},
   "outputs": [
    {
     "data": {
      "text/plain": [
       "array([[0.    , 0.425 , 0.    , 0.2125, 0.    , 0.    ],\n",
       "       [0.2125, 0.    , 0.    , 0.2125, 0.    , 0.    ],\n",
       "       [0.2125, 0.    , 0.    , 0.2125, 0.    , 0.425 ],\n",
       "       [0.2125, 0.425 , 0.    , 0.    , 0.85  , 0.425 ],\n",
       "       [0.2125, 0.    , 0.85  , 0.2125, 0.    , 0.    ],\n",
       "       [0.    , 0.    , 0.    , 0.    , 0.    , 0.    ]])"
      ]
     },
     "execution_count": 248,
     "metadata": {},
     "output_type": "execute_result"
    }
   ],
   "source": [
    "g_mat = init_G_matrix(user_buff, total, 0.85)\n",
    "g_mat"
   ]
  },
  {
   "cell_type": "code",
   "execution_count": 238,
   "metadata": {},
   "outputs": [
    {
     "data": {
      "text/plain": [
       "array([[0.29961076],\n",
       "       [0.23968861],\n",
       "       [0.26964968],\n",
       "       [0.71906582],\n",
       "       [0.50933829],\n",
       "       [0.05992215]])"
      ]
     },
     "execution_count": 238,
     "metadata": {},
     "output_type": "execute_result"
    }
   ],
   "source": [
    "compute_rank(g_mat, total, 100)"
   ]
  },
  {
   "cell_type": "code",
   "execution_count": null,
   "metadata": {},
   "outputs": [],
   "source": []
  }
 ],
 "metadata": {
  "kernelspec": {
   "display_name": "Python 3",
   "language": "python",
   "name": "python3"
  },
  "language_info": {
   "codemirror_mode": {
    "name": "ipython",
    "version": 3
   },
   "file_extension": ".py",
   "mimetype": "text/x-python",
   "name": "python",
   "nbconvert_exporter": "python",
   "pygments_lexer": "ipython3",
   "version": "3.6.4"
  }
 },
 "nbformat": 4,
 "nbformat_minor": 2
}
